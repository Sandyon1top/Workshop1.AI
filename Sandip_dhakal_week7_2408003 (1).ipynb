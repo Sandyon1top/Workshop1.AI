{
  "nbformat": 4,
  "nbformat_minor": 0,
  "metadata": {
    "colab": {
      "provenance": []
    },
    "kernelspec": {
      "name": "python3",
      "display_name": "Python 3"
    },
    "language_info": {
      "name": "python"
    }
  },
  "cells": [
    {
      "cell_type": "code",
      "execution_count": 3,
      "metadata": {
        "id": "gi_EYf7C5ykK"
      },
      "outputs": [],
      "source": [
        "import pandas as pd\n",
        "data = pd.read_csv(\"/content/diabetes.csv\");\n"
      ]
    },
    {
      "cell_type": "code",
      "source": [
        "from google.colab import drive\n",
        "drive.mount('/content/drive')"
      ],
      "metadata": {
        "colab": {
          "base_uri": "https://localhost:8080/"
        },
        "id": "-6JnwcKUX_-8",
        "outputId": "6a9bfbdc-73df-40bd-bd6b-8ebc005c749a"
      },
      "execution_count": 4,
      "outputs": [
        {
          "output_type": "stream",
          "name": "stdout",
          "text": [
            "Drive already mounted at /content/drive; to attempt to forcibly remount, call drive.mount(\"/content/drive\", force_remount=True).\n"
          ]
        }
      ]
    },
    {
      "cell_type": "code",
      "source": [
        "from sklearn.model_selection import train_test_split\n",
        "from sklearn.linear_model import LinearRegression\n",
        "from sklearn.metrics import mean_absolute_error, mean_squared_error, r2_score\n",
        "\n",
        "X_reg = data.drop(columns=[\"BloodPressure\"])\n",
        "y_reg = data[\"BloodPressure\"]\n",
        "\n",
        "X_train_reg, X_test_reg, y_train_reg, y_test_reg = train_test_split(X_reg, y_reg, test_size=0.25, random_state=42)\n",
        "\n",
        "reg_model = LinearRegression()\n",
        "reg_model.fit(X_train_reg, y_train_reg)\n",
        "\n",
        "y_pred_reg = reg_model.predict(X_test_reg)\n",
        "\n",
        "print(\"Linear Regression Results:\")\n",
        "print(\"MAE:\", mean_absolute_error(y_test_reg, y_pred_reg))\n",
        "print(\"MSE:\", mean_squared_error(y_test_reg, y_pred_reg))\n",
        "print(\"R2:\", r2_score(y_test_reg, y_pred_reg))"
      ],
      "metadata": {
        "colab": {
          "base_uri": "https://localhost:8080/"
        },
        "id": "b1JmXDNO7em8",
        "outputId": "d2633479-f6bc-4e19-dae0-560b73ce2a8e"
      },
      "execution_count": 5,
      "outputs": [
        {
          "output_type": "stream",
          "name": "stdout",
          "text": [
            "Linear Regression Results:\n",
            "MAE: 12.349953521865535\n",
            "MSE: 381.3839678734868\n",
            "R2: 0.20681260468545215\n"
          ]
        }
      ]
    },
    {
      "cell_type": "code",
      "source": [
        "from sklearn.linear_model import LogisticRegression\n",
        "from sklearn.metrics import accuracy_score, precision_score, recall_score, f1_score\n",
        "\n",
        "X_clf = data.drop(columns=[\"Outcome\"])\n",
        "y_clf = data[\"Outcome\"]\n",
        "\n",
        "X_train_clf, X_test_clf, y_train_clf, y_test_clf = train_test_split(X_clf, y_clf,\n",
        "                                                                    test_size=0.25, random_state=42)"
      ],
      "metadata": {
        "id": "rcRj4Ikw7iyg"
      },
      "execution_count": 6,
      "outputs": []
    },
    {
      "cell_type": "code",
      "source": [
        "log_model = LogisticRegression(max_iter=1000)\n",
        "log_model.fit(X_train_clf, y_train_clf)\n",
        "\n",
        "y_pred_log = log_model.predict(X_test_clf)"
      ],
      "metadata": {
        "id": "xWbfkOJG7q2d"
      },
      "execution_count": 7,
      "outputs": []
    },
    {
      "cell_type": "code",
      "source": [
        "print(\"Logistic Regression : \")\n",
        "print(\"Accuracy:\", accuracy_score(y_test_clf, y_pred_log))\n",
        "print(\"Precision:\", precision_score(y_test_clf, y_pred_log))\n",
        "print(\"Recall:\", recall_score(y_test_clf, y_pred_log))\n",
        "print(\"F1 Score:\", f1_score(y_test_clf, y_pred_log))"
      ],
      "metadata": {
        "colab": {
          "base_uri": "https://localhost:8080/"
        },
        "id": "qCNIzdTd7uYL",
        "outputId": "ef4a5768-2e57-4e1c-f007-7131ab253106"
      },
      "execution_count": 8,
      "outputs": [
        {
          "output_type": "stream",
          "name": "stdout",
          "text": [
            "Logistic Regression : \n",
            "Accuracy: 0.7239583333333334\n",
            "Precision: 0.6111111111111112\n",
            "Recall: 0.6376811594202898\n",
            "F1 Score: 0.624113475177305\n"
          ]
        }
      ]
    }
  ]
}