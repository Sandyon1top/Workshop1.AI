{
  "nbformat": 4,
  "nbformat_minor": 0,
  "metadata": {
    "colab": {
      "provenance": [],
      "authorship_tag": "ABX9TyMsPvI3H08wPQ/54tXGyuTX",
      "include_colab_link": true
    },
    "kernelspec": {
      "name": "python3",
      "display_name": "Python 3"
    },
    "language_info": {
      "name": "python"
    }
  },
  "cells": [
    {
      "cell_type": "markdown",
      "metadata": {
        "id": "view-in-github",
        "colab_type": "text"
      },
      "source": [
        "<a href=\"https://colab.research.google.com/github/Sandyon1top/Workshop1.AI/blob/main/Sandipdhakalworksheet1_2408003.ipynb\" target=\"_parent\"><img src=\"https://colab.research.google.com/assets/colab-badge.svg\" alt=\"Open In Colab\"/></a>"
      ]
    },
    {
      "cell_type": "code",
      "execution_count": null,
      "metadata": {
        "id": "EakgmDkpbBgX"
      },
      "outputs": [],
      "source": []
    },
    {
      "cell_type": "code",
      "source": [
        "from google.colab import drive\n",
        "drive.mount('/content/drive')"
      ],
      "metadata": {
        "id": "finSzZ5VbFkK"
      },
      "execution_count": null,
      "outputs": []
    },
    {
      "cell_type": "code",
      "source": [
        "import numpy as np\n",
        "# Create arrays of different dimensions\n",
        "array_0d = np.array(5)\n",
        "array_1d = np.array([1, 2, 3, 4, 5])\n",
        "array_2d = np.array([[1, 2, 3], [4, 5, 6]])\n",
        "array_3d = np.array([[[1, 2], [3, 4]], [[5, 6], [7, 8]]])\n",
        "# Print arrays with shapes\n",
        "for i, arr in enumerate([array_0d, array_1d, array_2d, array_3d]):\n",
        "  print(f\"{i}D Array:\\n{arr}\\nShape: {arr.shape}\\n\")"
      ],
      "metadata": {
        "colab": {
          "base_uri": "https://localhost:8080/"
        },
        "id": "bJ-lU8tEd1Pq",
        "outputId": "11c26aff-2118-4933-e348-3453cedd47f8"
      },
      "execution_count": null,
      "outputs": [
        {
          "output_type": "stream",
          "name": "stdout",
          "text": [
            "0D Array:\n",
            "5\n",
            "Shape: ()\n",
            "\n",
            "1D Array:\n",
            "[1 2 3 4 5]\n",
            "Shape: (5,)\n",
            "\n",
            "2D Array:\n",
            "[[1 2 3]\n",
            " [4 5 6]]\n",
            "Shape: (2, 3)\n",
            "\n",
            "3D Array:\n",
            "[[[1 2]\n",
            "  [3 4]]\n",
            "\n",
            " [[5 6]\n",
            "  [7 8]]]\n",
            "Shape: (2, 2, 2)\n",
            "\n"
          ]
        }
      ]
    },
    {
      "cell_type": "code",
      "source": [
        "\n",
        "import numpy as np\n",
        "A = np.array([[1, 2], [3, 4]])\n",
        "B = np.array([5, 6])\n",
        "print(\"Inverse:\\n\", np.linalg.inv(A))\n",
        "# Output: Inverse: [[-2. 1. ], [ 1.5 -0.5]]\n",
        "print(\"Determinant:\", np.linalg.det(A))\n",
        "# Output: Determinant: -2.0\n",
        "print(\"Frobenius Norm:\", np.linalg.norm(A, 'fro'))\n",
        "# Output: Frobenius Norm: 5.4772\n",
        "print(\"2-Norm (Euclidean):\", np.linalg.norm(A))\n",
        "# Outptut: 2-Norm(Euclidean): 5.4772\n",
        "print(\"Solution x:\", np.linalg.solve(A, B))\n",
        "#Output: Solution x: [-4. 4.5]\n"
      ],
      "metadata": {
        "colab": {
          "base_uri": "https://localhost:8080/"
        },
        "id": "on5d9dWvuTjO",
        "outputId": "6745cfe1-5333-4862-dca4-f29b78e1eb58"
      },
      "execution_count": null,
      "outputs": [
        {
          "output_type": "stream",
          "name": "stdout",
          "text": [
            "Inverse:\n",
            " [[-2.   1. ]\n",
            " [ 1.5 -0.5]]\n",
            "Determinant: -2.0000000000000004\n",
            "Frobenius Norm: 5.477225575051661\n",
            "2-Norm (Euclidean): 5.477225575051661\n",
            "Solution x: [-4.   4.5]\n"
          ]
        }
      ]
    },
    {
      "cell_type": "code",
      "source": [
        "\n",
        "array = [[0, 0], [0, 0]]\n",
        "print(array)"
      ],
      "metadata": {
        "colab": {
          "base_uri": "https://localhost:8080/"
        },
        "id": "hsk5W7PLuf6v",
        "outputId": "68f5f273-f973-4205-908a-903626e962ab"
      },
      "execution_count": null,
      "outputs": [
        {
          "output_type": "stream",
          "name": "stdout",
          "text": [
            "[[0, 0], [0, 0]]\n"
          ]
        }
      ]
    },
    {
      "cell_type": "code",
      "source": [
        "import numpy as np\n",
        "array = np.ones((4, 2))\n",
        "print(array)"
      ],
      "metadata": {
        "colab": {
          "base_uri": "https://localhost:8080/"
        },
        "id": "QjfINeNCvBa3",
        "outputId": "e7a0eadd-8f01-4c0a-cfa6-a41369196fa0"
      },
      "execution_count": null,
      "outputs": [
        {
          "output_type": "stream",
          "name": "stdout",
          "text": [
            "[[1. 1.]\n",
            " [1. 1.]\n",
            " [1. 1.]\n",
            " [1. 1.]]\n"
          ]
        }
      ]
    },
    {
      "cell_type": "code",
      "source": [
        "import numpy as np\n",
        "\n",
        "array = np.full((4, 2), 7)\n",
        "print(array)"
      ],
      "metadata": {
        "colab": {
          "base_uri": "https://localhost:8080/"
        },
        "id": "I8RHoQY93TtF",
        "outputId": "ca876b23-3ca9-4593-f35b-a9681e090fc3"
      },
      "execution_count": null,
      "outputs": [
        {
          "output_type": "stream",
          "name": "stdout",
          "text": [
            "[[7 7]\n",
            " [7 7]\n",
            " [7 7]\n",
            " [7 7]]\n"
          ]
        }
      ]
    },
    {
      "cell_type": "code",
      "source": [
        "#4\n",
        "import numpy as np\n",
        "\n",
        "array = np.array([[1, 2, 3], [4, 5, 6]])\n",
        "zeros_array = np.zeros_like(array)\n",
        "print(zeros_array)"
      ],
      "metadata": {
        "colab": {
          "base_uri": "https://localhost:8080/"
        },
        "id": "Ze-gkqR73Y1H",
        "outputId": "45dc8a8d-aec8-40fa-9d37-1f85f574ac96"
      },
      "execution_count": null,
      "outputs": [
        {
          "output_type": "stream",
          "name": "stdout",
          "text": [
            "[[0 0 0]\n",
            " [0 0 0]]\n"
          ]
        }
      ]
    },
    {
      "cell_type": "code",
      "source": [
        "#5\n",
        "import numpy as np\n",
        "\n",
        "array = np.array([[1, 2, 3], [4, 5, 6]])\n",
        "ones_array = np.ones_like(array)\n",
        "print(ones_array)"
      ],
      "metadata": {
        "colab": {
          "base_uri": "https://localhost:8080/"
        },
        "id": "tE9_8E4f3eiS",
        "outputId": "04e4c682-d302-4b2e-eb15-88be761f5f32"
      },
      "execution_count": null,
      "outputs": [
        {
          "output_type": "stream",
          "name": "stdout",
          "text": [
            "[[1 1 1]\n",
            " [1 1 1]]\n"
          ]
        }
      ]
    },
    {
      "cell_type": "code",
      "source": [
        "#6\n",
        "import numpy as np\n",
        "\n",
        "new_list = [1, 2, 3, 4]\n",
        "array = np.array(new_list)\n",
        "print(array)"
      ],
      "metadata": {
        "colab": {
          "base_uri": "https://localhost:8080/"
        },
        "id": "ItbUK8ei3iId",
        "outputId": "2d72301f-a903-4d8d-c2dd-673364adc09d"
      },
      "execution_count": null,
      "outputs": [
        {
          "output_type": "stream",
          "name": "stdout",
          "text": [
            "[1 2 3 4]\n"
          ]
        }
      ]
    },
    {
      "cell_type": "code",
      "source": [
        "#1\n",
        "import numpy as np\n",
        "\n",
        "array = np.arange(10, 50)\n",
        "print(array)"
      ],
      "metadata": {
        "colab": {
          "base_uri": "https://localhost:8080/"
        },
        "id": "H9oMd0_V3l4s",
        "outputId": "e67746e8-a139-4dad-d71b-dbc4d04c88c4"
      },
      "execution_count": null,
      "outputs": [
        {
          "output_type": "stream",
          "name": "stdout",
          "text": [
            "[10 11 12 13 14 15 16 17 18 19 20 21 22 23 24 25 26 27 28 29 30 31 32 33\n",
            " 34 35 36 37 38 39 40 41 42 43 44 45 46 47 48 49]\n"
          ]
        }
      ]
    },
    {
      "cell_type": "code",
      "source": [
        "#2\n",
        "import numpy as np\n",
        "\n",
        "array = np.arange(9)\n",
        "matrix = array.reshape(3, 3)\n",
        "print(matrix)"
      ],
      "metadata": {
        "colab": {
          "base_uri": "https://localhost:8080/"
        },
        "id": "Lzl_C6lc3rsi",
        "outputId": "a703379c-a38b-403d-bfeb-4a7b9da3ecd4"
      },
      "execution_count": null,
      "outputs": [
        {
          "output_type": "stream",
          "name": "stdout",
          "text": [
            "[[0 1 2]\n",
            " [3 4 5]\n",
            " [6 7 8]]\n"
          ]
        }
      ]
    },
    {
      "cell_type": "code",
      "source": [
        "import numpy as np\n",
        "\n",
        "identity_matrix = np.eye(3)\n",
        "print(identity_matrix)\n"
      ],
      "metadata": {
        "colab": {
          "base_uri": "https://localhost:8080/"
        },
        "id": "o0WplZGi3tX7",
        "outputId": "0534084c-adf4-4496-f4f7-a5c81a589b77"
      },
      "execution_count": null,
      "outputs": [
        {
          "output_type": "stream",
          "name": "stdout",
          "text": [
            "[[1. 0. 0.]\n",
            " [0. 1. 0.]\n",
            " [0. 0. 1.]]\n"
          ]
        }
      ]
    },
    {
      "cell_type": "code",
      "source": [
        "#4\n",
        "import numpy as np\n",
        "\n",
        "random_array = np.random.random(30)\n",
        "mean_value = random_array.mean()\n",
        "\n",
        "print(\"Random Array:\", random_array)\n",
        "print(\"Mean of the Array:\", mean_value)"
      ],
      "metadata": {
        "colab": {
          "base_uri": "https://localhost:8080/"
        },
        "id": "39uTXaxX3xS2",
        "outputId": "19d565af-7477-42ae-b617-9b82ff230d75"
      },
      "execution_count": null,
      "outputs": [
        {
          "output_type": "stream",
          "name": "stdout",
          "text": [
            "Random Array: [0.9675461  0.33017706 0.44049487 0.34623551 0.64656012 0.79650098\n",
            " 0.8675714  0.37943462 0.04148243 0.55030347 0.74231817 0.57265271\n",
            " 0.93832211 0.11225321 0.86287161 0.14251404 0.99577705 0.84335702\n",
            " 0.51170935 0.18226479 0.19618626 0.36118677 0.90853813 0.86481167\n",
            " 0.56976557 0.95063828 0.90962051 0.07181173 0.0158607  0.03761229]\n",
            "Mean of the Array: 0.5385459503831608\n"
          ]
        }
      ]
    },
    {
      "cell_type": "code",
      "source": [
        "#5\n",
        "import numpy as np\n",
        "\n",
        "random_array = np.random.random((10, 10))\n",
        "min_value = random_array.min()\n",
        "max_value = random_array.max()\n",
        "print(\"Random 10x10 Array:\\n\", random_array)\n",
        "print(\"Minimum Value:\", min_value)\n",
        "print(\"Maximum Value:\", max_value)"
      ],
      "metadata": {
        "colab": {
          "base_uri": "https://localhost:8080/"
        },
        "id": "8k4rm19N31f8",
        "outputId": "b21df830-99c8-4f5d-e4a4-d05c03d8e3cf"
      },
      "execution_count": null,
      "outputs": [
        {
          "output_type": "stream",
          "name": "stdout",
          "text": [
            "Random 10x10 Array:\n",
            " [[0.07366276 0.7369898  0.76467322 0.40834037 0.0191768  0.36207252\n",
            "  0.26031893 0.73760092 0.34805307 0.85087285]\n",
            " [0.60409258 0.71130216 0.3890015  0.71245506 0.17113118 0.86873351\n",
            "  0.53406077 0.70565901 0.07460274 0.60664004]\n",
            " [0.97150888 0.26928759 0.44113659 0.36336092 0.26755836 0.67442299\n",
            "  0.17622844 0.67630269 0.20383765 0.64418456]\n",
            " [0.43046057 0.43113383 0.73701845 0.83762916 0.66442262 0.89516802\n",
            "  0.70748705 0.65118846 0.69005674 0.10089751]\n",
            " [0.57729789 0.8554138  0.70499548 0.15006313 0.27734041 0.46169508\n",
            "  0.7361037  0.77427377 0.64499865 0.79997042]\n",
            " [0.81403011 0.62573946 0.64648792 0.63129809 0.47237839 0.62209864\n",
            "  0.31122992 0.85939413 0.38411882 0.81481626]\n",
            " [0.83082403 0.3113521  0.92412754 0.09926914 0.34318493 0.98540508\n",
            "  0.30403601 0.68050632 0.74389037 0.40505917]\n",
            " [0.7880435  0.92432918 0.57142406 0.16384086 0.69579018 0.91508424\n",
            "  0.0243002  0.27297676 0.72104838 0.12369581]\n",
            " [0.37708378 0.21855706 0.20271525 0.61692136 0.67690338 0.43791588\n",
            "  0.2631302  0.17074999 0.91160187 0.79996682]\n",
            " [0.93632062 0.28831246 0.68372676 0.60787514 0.68797509 0.95585356\n",
            "  0.1275171  0.74909941 0.35273141 0.80453533]]\n",
            "Minimum Value: 0.019176796446176647\n",
            "Maximum Value: 0.9854050794399866\n"
          ]
        }
      ]
    },
    {
      "cell_type": "code",
      "source": [
        "#6\n",
        "import numpy as np\n",
        "zero_array = np.zeros(10)\n",
        "zero_array[4] = 1\n",
        "print(zero_array)"
      ],
      "metadata": {
        "colab": {
          "base_uri": "https://localhost:8080/"
        },
        "id": "vKxlGOQq3_RX",
        "outputId": "6a0aae89-745a-4b44-9438-129161bd47d1"
      },
      "execution_count": null,
      "outputs": [
        {
          "output_type": "stream",
          "name": "stdout",
          "text": [
            "[0. 0. 0. 0. 1. 0. 0. 0. 0. 0.]\n"
          ]
        }
      ]
    },
    {
      "cell_type": "code",
      "source": [
        "#7\n",
        "import numpy as np\n",
        "\n",
        "arr = np.array([1, 2, 5, 6, 7, 9])\n",
        "reversed_arr = arr[::-1]\n",
        "print(reversed_arr)"
      ],
      "metadata": {
        "colab": {
          "base_uri": "https://localhost:8080/"
        },
        "id": "VYoikEmf4Crq",
        "outputId": "b049e801-27e2-4a62-9df0-43c447f0f4ff"
      },
      "execution_count": null,
      "outputs": [
        {
          "output_type": "stream",
          "name": "stdout",
          "text": [
            "[9 7 6 5 2 1]\n"
          ]
        }
      ]
    },
    {
      "cell_type": "code",
      "source": [
        "#8\n",
        "import numpy as np\n",
        "\n",
        "size = 5\n",
        "array = np.zeros((size, size), dtype=int)\n",
        "array[0, :] = 1\n",
        "array[-1, :] = 1\n",
        "array[:, 0] = 1\n",
        "array[:, -1] = 1\n",
        "print(array)"
      ],
      "metadata": {
        "colab": {
          "base_uri": "https://localhost:8080/"
        },
        "id": "uwThEw9O4Gh1",
        "outputId": "6d8d28fd-1148-427b-c523-6f860bf2de0f"
      },
      "execution_count": null,
      "outputs": [
        {
          "output_type": "stream",
          "name": "stdout",
          "text": [
            "[[1 1 1 1 1]\n",
            " [1 0 0 0 1]\n",
            " [1 0 0 0 1]\n",
            " [1 0 0 0 1]\n",
            " [1 1 1 1 1]]\n"
          ]
        }
      ]
    },
    {
      "cell_type": "code",
      "source": [
        "#9\n",
        "import numpy as np\n",
        "\n",
        "checkerboard = np.zeros((8, 8), dtype=int)\n",
        "checkerboard[::2, ::2] = 1\n",
        "checkerboard[1::2, 1::2] = 1\n",
        "print(checkerboard)"
      ],
      "metadata": {
        "colab": {
          "base_uri": "https://localhost:8080/"
        },
        "id": "eeZq-GiP4LDX",
        "outputId": "4d4ccafb-769c-4cbd-a42a-6de9eefc9847"
      },
      "execution_count": null,
      "outputs": [
        {
          "output_type": "stream",
          "name": "stdout",
          "text": [
            "[[1 0 1 0 1 0 1 0]\n",
            " [0 1 0 1 0 1 0 1]\n",
            " [1 0 1 0 1 0 1 0]\n",
            " [0 1 0 1 0 1 0 1]\n",
            " [1 0 1 0 1 0 1 0]\n",
            " [0 1 0 1 0 1 0 1]\n",
            " [1 0 1 0 1 0 1 0]\n",
            " [0 1 0 1 0 1 0 1]]\n"
          ]
        }
      ]
    },
    {
      "cell_type": "code",
      "source": [
        "import numpy as np\n",
        "\n",
        "# Define the arrays\n",
        "x = np.array([[1, 2], [3, 5]])\n",
        "y = np.array([[5, 6], [7, 8]])\n",
        "v = np.array([9, 10])\n",
        "w = np.array([11, 12])\n",
        "\n",
        "add_result = x + y\n",
        "subtract_result = x - y\n",
        "multiply_result = x * 2\n",
        "square_result = x**2\n",
        "\n",
        "dot_vw = np.dot(v, w)\n",
        "dot_xv = np.dot(x, v)\n",
        "dot_xy = np.dot(x, y)\n",
        "\n",
        "concat_xy_row = np.concatenate((x, y), axis=0)\n",
        "concat_vw_col = np.concatenate((v.reshape(-1, 1), w.reshape(-1, 1)), axis=1)\n",
        "\n",
        "try:\n",
        "    concat_xv = np.concatenate((x, v), axis=0)  #error\n",
        "except ValueError as e:\n",
        "    concat_xv_error = str(e)\n",
        "\n",
        "print(\"1. Add:\\n\", add_result)\n",
        "print(\"2. Subtract:\\n\", subtract_result)\n",
        "print(\"3. Multiply:\\n\", multiply_result)\n",
        "print(\"4. Square:\\n\", square_result)\n",
        "print(\"5. Dot products:\\n v.w =\", dot_vw, \"\\n x.v =\", dot_xv, \"\\n x.y =\", dot_xy)\n",
        "print(\"6. Concatenate x and y along rows:\\n\", concat_xy_row)\n",
        "print(\"6. Concatenate v and w along columns:\\n\", concat_vw_col)\n",
        "print(\"7. Concatenate x and v Error:\\n\", concat_xv_error)"
      ],
      "metadata": {
        "colab": {
          "base_uri": "https://localhost:8080/"
        },
        "id": "J_SBu1n-4QDR",
        "outputId": "85cb6b9c-8bbf-41eb-c436-9a5a95185962"
      },
      "execution_count": null,
      "outputs": [
        {
          "output_type": "stream",
          "name": "stdout",
          "text": [
            "1. Add:\n",
            " [[ 6  8]\n",
            " [10 13]]\n",
            "2. Subtract:\n",
            " [[-4 -4]\n",
            " [-4 -3]]\n",
            "3. Multiply:\n",
            " [[ 2  4]\n",
            " [ 6 10]]\n",
            "4. Square:\n",
            " [[ 1  4]\n",
            " [ 9 25]]\n",
            "5. Dot products:\n",
            " v.w = 219 \n",
            " x.v = [29 77] \n",
            " x.y = [[19 22]\n",
            " [50 58]]\n",
            "6. Concatenate x and y along rows:\n",
            " [[1 2]\n",
            " [3 5]\n",
            " [5 6]\n",
            " [7 8]]\n",
            "6. Concatenate v and w along columns:\n",
            " [[ 9 11]\n",
            " [10 12]]\n",
            "7. Concatenate x and v Error:\n",
            " all the input arrays must have same number of dimensions, but the array at index 0 has 2 dimension(s) and the array at index 1 has 1 dimension(s)\n"
          ]
        }
      ]
    },
    {
      "cell_type": "code",
      "source": [
        "#1. Prove A.A−1 = I.\n",
        "import numpy as np\n",
        "\n",
        "A = np.array([[3, 4], [7, 8]])\n",
        "A_inv = np.linalg.inv(A)\n",
        "identity_result = np.dot(A, A_inv)\n",
        "identity_matrix = np.eye(A.shape[0])  #generating identity matrix of the same size\n",
        "is_identity = np.allclose(identity_result, identity_matrix)  #checking if almost equal\n",
        "\n",
        "print(\"A:\\n\", A);\n",
        "print(\"A^-1:\\n\", A_inv);\n",
        "print(\"A * A^-1:\\n\", identity_result);\n",
        "print(\"A * A^-1 equal to Identity matrix : \", is_identity);"
      ],
      "metadata": {
        "colab": {
          "base_uri": "https://localhost:8080/"
        },
        "id": "271W_RvJ4bHr",
        "outputId": "0261e13a-4366-4f5b-bd07-66f6288ebe68"
      },
      "execution_count": null,
      "outputs": [
        {
          "output_type": "stream",
          "name": "stdout",
          "text": [
            "A:\n",
            " [[3 4]\n",
            " [7 8]]\n",
            "A^-1:\n",
            " [[-2.    1.  ]\n",
            " [ 1.75 -0.75]]\n",
            "A * A^-1:\n",
            " [[1.00000000e+00 0.00000000e+00]\n",
            " [1.77635684e-15 1.00000000e+00]]\n",
            "A * A^-1 equal to Identity matrix :  True\n"
          ]
        }
      ]
    },
    {
      "cell_type": "code",
      "source": [
        "#2. Prove AB ̸= BA.\n",
        "import numpy as np\n",
        "\n",
        "A = np.array([[3, 4], [7, 8]])\n",
        "B = np.array([[5, 3], [2, 1]])\n",
        "AB = np.dot(A, B)\n",
        "BA = np.dot(B, A)\n",
        "is_not_equal = not np.array_equal(AB, BA) #checking if AB = BA\n",
        "\n",
        "print(\"Matrix A:\\n\", A)\n",
        "print(\"Matrix B:\\n\", B)\n",
        "print(\"AB:\\n\", AB)\n",
        "print(\"BA:\\n\", BA)\n",
        "print(\"AB not equal to BA : \", is_not_equal)"
      ],
      "metadata": {
        "colab": {
          "base_uri": "https://localhost:8080/"
        },
        "id": "XnZEloAY4dzB",
        "outputId": "9b4807f7-5c1b-4619-b624-e04c7e9de449"
      },
      "execution_count": null,
      "outputs": [
        {
          "output_type": "stream",
          "name": "stdout",
          "text": [
            "Matrix A:\n",
            " [[3 4]\n",
            " [7 8]]\n",
            "Matrix B:\n",
            " [[5 3]\n",
            " [2 1]]\n",
            "AB:\n",
            " [[23 13]\n",
            " [51 29]]\n",
            "BA:\n",
            " [[36 44]\n",
            " [13 16]]\n",
            "AB not equal to BA :  True\n"
          ]
        }
      ]
    },
    {
      "cell_type": "code",
      "source": [
        "#3. Prove (AB)^T = B^T.A^T\n",
        "import numpy as np\n",
        "\n",
        "A = np.array([[3, 4], [7, 8]])\n",
        "B = np.array([[5, 3], [2, 1]])\n",
        "\n",
        "AB = np.dot(A, B)\n",
        "AB_T = np.transpose(AB)\n",
        "\n",
        "B_T = np.transpose(B)\n",
        "A_T = np.transpose(A)\n",
        "BT_AT = np.dot(B_T, A_T)\n",
        "\n",
        "#checking if (AB)^T == B^T A^T\n",
        "is_equal = np.array_equal(AB_T, BT_AT)\n",
        "\n",
        "print(\"Matrix A:\\n\", A)\n",
        "print(\"Matrix B:\\n\", B)\n",
        "print(\"AB:\\n\", AB)\n",
        "print(\"(AB)^T:\\n\", AB_T)\n",
        "print(\"B^T:\\n\", B_T)\n",
        "print(\"A^T:\\n\", A_T)\n",
        "print(\"B^T A^T:\\n\", BT_AT)\n",
        "print(\"(AB)^T equal to B^T A^T : \", is_equal)"
      ],
      "metadata": {
        "colab": {
          "base_uri": "https://localhost:8080/"
        },
        "id": "e9EjDQvW4jP2",
        "outputId": "eaa78a32-2455-43b0-d4a1-9b0c5ce6a7ab"
      },
      "execution_count": null,
      "outputs": [
        {
          "output_type": "stream",
          "name": "stdout",
          "text": [
            "Matrix A:\n",
            " [[3 4]\n",
            " [7 8]]\n",
            "Matrix B:\n",
            " [[5 3]\n",
            " [2 1]]\n",
            "AB:\n",
            " [[23 13]\n",
            " [51 29]]\n",
            "(AB)^T:\n",
            " [[23 51]\n",
            " [13 29]]\n",
            "B^T:\n",
            " [[5 2]\n",
            " [3 1]]\n",
            "A^T:\n",
            " [[3 7]\n",
            " [4 8]]\n",
            "B^T A^T:\n",
            " [[23 51]\n",
            " [13 29]]\n",
            "(AB)^T equal to B^T A^T :  True\n"
          ]
        }
      ]
    },
    {
      "cell_type": "code",
      "source": [
        "#Linear equation using Inverse Methods\n",
        "import numpy as np\n",
        "\n",
        "A = np.array([[2, -3, 1],\n",
        "              [1, -1, 2],\n",
        "              [3, 1, -1]])\n",
        "B = np.array([-1, -3, 9])\n",
        "\n",
        "A_inv = np.linalg.inv(A)  #inverse of A\n",
        "X = np.dot(A_inv, B)      #X = A^-1 * B\n",
        "\n",
        "print(\"Coefficient matrix (A):\\n\", A)\n",
        "print(\"Constant matrix (B):\\n\", B)\n",
        "print(\"Inverse of A (A^-1):\\n\", A_inv)\n",
        "print(\"Solution (X):\\n\", X)"
      ],
      "metadata": {
        "colab": {
          "base_uri": "https://localhost:8080/"
        },
        "id": "3ZqjmD_a4nl8",
        "outputId": "3cbe146a-3c9b-41ee-b92a-af7e695c0797"
      },
      "execution_count": null,
      "outputs": [
        {
          "output_type": "stream",
          "name": "stdout",
          "text": [
            "Coefficient matrix (A):\n",
            " [[ 2 -3  1]\n",
            " [ 1 -1  2]\n",
            " [ 3  1 -1]]\n",
            "Constant matrix (B):\n",
            " [-1 -3  9]\n",
            "Inverse of A (A^-1):\n",
            " [[ 0.05263158  0.10526316  0.26315789]\n",
            " [-0.36842105  0.26315789  0.15789474]\n",
            " [-0.21052632  0.57894737 -0.05263158]]\n",
            "Solution (X):\n",
            " [ 2.  1. -2.]\n"
          ]
        }
      ]
    },
    {
      "cell_type": "code",
      "source": [
        "#1.1\n",
        "import time\n",
        "\n",
        "list1 = [i for i in range(1_000_000)]\n",
        "list2 = [i for i in range(1_000_000)]\n",
        "#measuring time for element-wise addition\n",
        "start_time = time.time()\n",
        "result = [x + y for x, y in zip(list1, list2)]\n",
        "end_time = time.time()\n",
        "time_taken = end_time - start_time\n",
        "\n",
        "print(f\"Time taken for element-wise addition of two lists is : {time_taken:.6f} seconds\");"
      ],
      "metadata": {
        "colab": {
          "base_uri": "https://localhost:8080/"
        },
        "id": "df_t7dBe4wf1",
        "outputId": "df9b0893-98f1-4a73-9267-b506dfc91652"
      },
      "execution_count": null,
      "outputs": [
        {
          "output_type": "stream",
          "name": "stdout",
          "text": [
            "Time taken for element-wise addition of two lists is : 0.092925 seconds\n"
          ]
        }
      ]
    },
    {
      "cell_type": "code",
      "source": [
        "#1.2\n",
        "import numpy as np\n",
        "import time\n",
        "\n",
        "array1 = np.arange(1_000_000)\n",
        "array2 = np.arange(1_000_000)\n",
        "#measuring time for element-wise addition\n",
        "start_time = time.time()\n",
        "result = array1 + array2\n",
        "end_time = time.time()\n",
        "time_taken = end_time - start_time\n",
        "\n",
        "print(f\"Time taken for element-wise addition of two NumPy arrays is : {time_taken:.6f} seconds\");"
      ],
      "metadata": {
        "colab": {
          "base_uri": "https://localhost:8080/"
        },
        "id": "s9R9W8vb43dv",
        "outputId": "648fb45c-1d23-407e-9fa8-c2936bb2ddcb"
      },
      "execution_count": null,
      "outputs": [
        {
          "output_type": "stream",
          "name": "stdout",
          "text": [
            "Time taken for element-wise addition of two NumPy arrays is : 0.004682 seconds\n"
          ]
        }
      ]
    },
    {
      "cell_type": "code",
      "source": [
        "#2.1\n",
        "import time\n",
        "\n",
        "list1 = [i for i in range(1_000_000)]\n",
        "list2 = [i for i in range(1_000_000)]\n",
        "#measuring the time for element-wise multiplication\n",
        "start_time = time.time()\n",
        "result = [x * y for x, y in zip(list1, list2)]\n",
        "end_time = time.time()\n",
        "time_taken = end_time - start_time\n",
        "\n",
        "print(f\"Time taken for element-wise multiplication of two lists is ; {time_taken:.6f} seconds\")"
      ],
      "metadata": {
        "colab": {
          "base_uri": "https://localhost:8080/"
        },
        "id": "50RpKU2D46wW",
        "outputId": "9eda1665-61ac-4366-d594-ddb29a2ec824"
      },
      "execution_count": null,
      "outputs": [
        {
          "output_type": "stream",
          "name": "stdout",
          "text": [
            "Time taken for element-wise multiplication of two lists is ; 0.133098 seconds\n"
          ]
        }
      ]
    },
    {
      "cell_type": "code",
      "source": [
        "#2.2\n",
        "import numpy as np\n",
        "import time\n",
        "\n",
        "array1 = np.arange(1_000_000)\n",
        "array2 = np.arange(1_000_000)\n",
        "#measuring the time for element-wise multiplication\n",
        "start_time = time.time()\n",
        "result = array1 * array2\n",
        "end_time = time.time()\n",
        "time_taken = end_time - start_time\n",
        "\n",
        "print(f\"Time taken for element-wise multiplication of two NumPy arrays is : {time_taken:.6f} seconds\")"
      ],
      "metadata": {
        "colab": {
          "base_uri": "https://localhost:8080/"
        },
        "id": "aEaYY1Gu5AA_",
        "outputId": "cc9c451f-234e-4fa2-b7cc-724da21cddbb"
      },
      "execution_count": null,
      "outputs": [
        {
          "output_type": "stream",
          "name": "stdout",
          "text": [
            "Time taken for element-wise multiplication of two NumPy arrays is : 0.004696 seconds\n"
          ]
        }
      ]
    },
    {
      "cell_type": "code",
      "source": [
        "#3.1\n",
        "import time\n",
        "\n",
        "list1 = [i for i in range(1_000_000)]\n",
        "list2 = [i for i in range(1_000_000)]\n",
        "#measuring the time for dot product calculation\n",
        "start_time = time.time()\n",
        "dot_product = sum(x * y for x, y in zip(list1, list2))\n",
        "end_time = time.time()\n",
        "time_taken = end_time - start_time\n",
        "\n",
        "print(f\"Time taken for dot product of two lists is : {time_taken:.6f} seconds\")"
      ],
      "metadata": {
        "colab": {
          "base_uri": "https://localhost:8080/"
        },
        "id": "2tyHae6Q5Dvo",
        "outputId": "11fdd339-f635-43cd-e8fd-2cfc5c2986a0"
      },
      "execution_count": null,
      "outputs": [
        {
          "output_type": "stream",
          "name": "stdout",
          "text": [
            "Time taken for dot product of two lists is : 0.104160 seconds\n"
          ]
        }
      ]
    },
    {
      "cell_type": "code",
      "source": [
        "#3.2\n",
        "import numpy as np\n",
        "import time\n",
        "\n",
        "array1 = np.arange(1_000_000)\n",
        "array2 = np.arange(1_000_000)\n",
        "#measuring the time for dot product calculation\n",
        "start_time = time.time()\n",
        "dot_product = np.dot(array1, array2)\n",
        "end_time = time.time()\n",
        "time_taken = end_time - start_time\n",
        "\n",
        "print(f\"Time taken for dot product of two NumPy arrays is : {time_taken:.6f} seconds\")"
      ],
      "metadata": {
        "colab": {
          "base_uri": "https://localhost:8080/"
        },
        "id": "bMIM-lOe5KL3",
        "outputId": "1cc19f57-1820-4f18-99f0-4f57b387105d"
      },
      "execution_count": null,
      "outputs": [
        {
          "output_type": "stream",
          "name": "stdout",
          "text": [
            "Time taken for dot product of two NumPy arrays is : 0.003023 seconds\n"
          ]
        }
      ]
    },
    {
      "cell_type": "code",
      "source": [
        "#4.1\n",
        "import time\n",
        "\n",
        "def matrix_multiply(A, B):\n",
        "    size = len(A)\n",
        "    #initiaizing the result matrix with zeros\n",
        "    C = [[0] * size for _ in range(size)]\n",
        "\n",
        "    #matrix multiplication\n",
        "    for i in range(size):\n",
        "        for j in range(size):\n",
        "            for k in range(size):\n",
        "                C[i][j] += A[i][k] * B[k][j]\n",
        "    return C\n",
        "\n",
        "#two random matrices of size 1000x1000\n",
        "A = [[i + j for j in range(1000)] for i in range(1000)]\n",
        "B = [[i * j for j in range(1000)] for i in range(1000)]\n",
        "#measuring the time for matrix multiplication\n",
        "start_time = time.time()\n",
        "result = matrix_multiply(A, B)\n",
        "end_time = time.time()\n",
        "time_taken = end_time - start_time\n",
        "\n",
        "print(f\"Time taken for matrix multiplication of two 1000x1000 matrices is : {time_taken:.6f} seconds\")"
      ],
      "metadata": {
        "colab": {
          "base_uri": "https://localhost:8080/"
        },
        "id": "G8guoz7l5NMn",
        "outputId": "42b9ea84-31af-44c2-b0c2-7f3633469820"
      },
      "execution_count": null,
      "outputs": [
        {
          "output_type": "stream",
          "name": "stdout",
          "text": [
            "Time taken for matrix multiplication of two 1000x1000 matrices is : 329.048363 seconds\n"
          ]
        }
      ]
    },
    {
      "cell_type": "code",
      "source": [
        "#4.2\n",
        "import numpy as np\n",
        "import time\n",
        "\n",
        "A = np.random.rand(1000, 1000)\n",
        "B = np.random.rand(1000, 1000)\n",
        "#measuring the time for matrix multiplication\n",
        "start_time = time.time()\n",
        "result = np.dot(A, B)\n",
        "end_time = time.time()\n",
        "time_taken = end_time - start_time\n",
        "\n",
        "print(f\"Time taken for matrix multiplication of two 1000x1000 matrices using NumPy is : {time_taken:.6f} seconds\")"
      ],
      "metadata": {
        "colab": {
          "base_uri": "https://localhost:8080/"
        },
        "id": "eCwyqDdu5Sek",
        "outputId": "2a45e424-36fb-4e8b-e919-91b7352cd424"
      },
      "execution_count": null,
      "outputs": [
        {
          "output_type": "stream",
          "name": "stdout",
          "text": [
            "Time taken for matrix multiplication of two 1000x1000 matrices using NumPy is : 0.062444 seconds\n"
          ]
        }
      ]
    }
  ]
}