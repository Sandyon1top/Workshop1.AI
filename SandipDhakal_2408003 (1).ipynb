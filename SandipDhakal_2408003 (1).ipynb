{
 "cells": [
  {
   "cell_type": "code",
   "execution_count": 1,
   "metadata": {
    "colab": {
     "base_uri": "https://localhost:8080/"
    },
    "id": "hmMZXYlam36J",
    "outputId": "89296001-3c05-47ca-bd99-b50b93a8b451"
   },
   "outputs": [
    {
     "name": "stdout",
     "output_type": "stream",
     "text": [
      "<class 'int'>\n",
      "<class 'float'>\n",
      "<class 'str'>\n",
      "<class 'str'>\n",
      "<class 'str'>\n",
      "S\n",
      "p\n",
      "San\n",
      "eep\n",
      "['Sandip', 21, False]\n",
      "Strawberry\n",
      "('kiwi',)\n",
      "('banana', 'Guava')\n",
      "Hello my name is {person['name']}. I am {person['age']} years old and lives at {person['city']}.\n",
      "All keys: ['name', 'age', 'city']\n",
      "All values: ['Sandip', 21, 'Kathmandu']\n",
      "{1, 2, 3, 4, 5}\n",
      "data type of the variable is_student =  <class 'bool'>\n",
      "data type of the variable has_license =  <class 'bool'>\n",
      "Positive\n",
      "Both conditions are true\n",
      "At least one condition is true\n",
      "x is not equal to 0\n",
      "Either a or b is False\n",
      "At least one of a or b is True\n",
      "a is True\n",
      "apple\n",
      "banana\n",
      "cherry\n",
      "Count is: 0\n",
      "Count is: 1\n",
      "Count is: 2\n",
      "Count is: 3\n",
      "Count is: 4\n",
      "loop 1\n",
      "apple\n",
      "loop 2\n",
      "banana\n",
      "orange\n",
      "1000\n",
      "Hello, World!\n",
      "Hello, Alice!\n",
      "10\n",
      "10\n",
      "10\n",
      "120\n",
      "1\n",
      "Factorial is only defined for non-negative integers.\n",
      "5\n",
      "55\n",
      "12586269025\n",
      "5\n",
      "55\n",
      "6765\n"
     ]
    }
   ],
   "source": [
    "#example3\n",
    "#datatypes\n",
    "account_number=112230452637 #int\n",
    "account_balance=11000.23 #float\n",
    "print(type(account_number))\n",
    "print(type(account_balance))\n",
    "###sequence str\n",
    "name=\"Sandeep\"\n",
    "greeting=\"hello\"\n",
    "address=\"Mitrapark \"\n",
    "print(type(name))\n",
    "print(type(greeting))\n",
    "print(type(address))\n",
    "#print only 1 element\n",
    "print(name[0])\n",
    "print(name[-1])\n",
    "print(name[:3])\n",
    "print(name[4:])\n",
    "##list\n",
    "hybrid=[\"Sandip\",21,True]\n",
    "hybrid[2]=False\n",
    "print(hybrid)\n",
    "#tuple\n",
    "fruits=('Strawberry','banana','Guava','kiwi')\n",
    "print(fruits[0])\n",
    "print(fruits[3:])\n",
    "print(fruits[1:3])\n",
    "##mapping\n",
    "person = {'name':'Sandip','age':21,'city':'Kathmandu'}\n",
    "print(\"Hello my name is {person['name']}. I am {person['age']} years old and lives at {person['city']}.\")\n",
    "print(\"All keys:\", list(person.keys()))\n",
    "print(\"All values:\", list(person.values()))\n",
    "##set\n",
    "unique_numbers = {1,2,3,3,3,3,4,5}\n",
    "print(unique_numbers)\n",
    "##bool\n",
    "is_student = True\n",
    "has_license = False\n",
    "print(\"data type of the variable is_student = \",type(is_student))\n",
    "print(\"data type of the variable has_license = \",type(has_license))\n",
    "##special(result=None)-datatype bool\n",
    "##if else\n",
    "num = 10\n",
    "if num > 0:\n",
    "   print(\"Positive\")\n",
    "elif num == 0:\n",
    "   print(\"Zero\")\n",
    "else:\n",
    "   print(\"Non-positive\")\n",
    "##comparison\n",
    "x = 5\n",
    "y = 10\n",
    "if x > 0 and y < 22:\n",
    "  print(\"Both conditions are true\")\n",
    "if x > 0 or y > 22:\n",
    "  print(\"At least one condition is true\")\n",
    "if not x == 0:\n",
    "  print(\"x is not equal to 0\")\n",
    "##logical\n",
    "# Define two boolean variables\n",
    "a = True\n",
    "b = False\n",
    "# Using the ’and’ operator\n",
    "if a and b:\n",
    "  print(\"Both a and b are True\")\n",
    "else:\n",
    "  print(\"Either a or b is False\") # This will be printed\n",
    "# Using the ’or’ operator\n",
    "if a or b:\n",
    "  print(\"At least one of a or b is True\") # This will be printed\n",
    "else:\n",
    "  print(\"Both a and b are False\")\n",
    "# Using the ’not’ operator\n",
    "if not a:\n",
    "  print(\"a is False\") # This will not be printed\n",
    "else:\n",
    "  print(\"a is True\") # This will be printed\n",
    "##loops\n",
    "# for loop:\n",
    "fruits = [\"apple\", \"banana\",\"cherry\"]\n",
    "for fruit in fruits:\n",
    "  print(fruit)\n",
    "# While loop:\n",
    "count = 0\n",
    "while count < 5:\n",
    "  print(\"Count is:\", count)\n",
    "  count += 1\n",
    "# Break\n",
    "fruits = [\"apple\", \"banana\", \"orange\"]\n",
    "print(\"loop 1\")\n",
    "for fruit in fruits:\n",
    "  print(fruit)\n",
    "  if fruit == \"apple\":\n",
    "    break\n",
    "# Continiue\n",
    "print(\"loop 2\")\n",
    "for fruit in fruits:\n",
    "   if fruit == \"apple\":\n",
    "      continue\n",
    "   else:\n",
    "      print(fruit)\n",
    "##function\n",
    "def add_binary(a, b):\n",
    "    '''\n",
    "    Returns the sum of two decimal numbers in binary digits.\n",
    "    Parameters:\n",
    "        a (int): A decimal integer\n",
    "        b (int): Another decimal integer\n",
    "    Returns:\n",
    "        binary_sum (str): Binary string of the sum of a and b\n",
    "    '''\n",
    "    # Compute the sum of a and b, and convert it to binary\n",
    "    binary_sum = bin(a + b)[2:]\n",
    "    return binary_sum\n",
    "\n",
    "# Example usage\n",
    "a = 5  # Binary: 101\n",
    "b = 3  # Binary: 11\n",
    "print(add_binary(a, b))  # Output: \"1000\"\n",
    "##builtin functions\n",
    "print(\"Hello, World!\") # Output: Hello, World!\n",
    "length = len(\"Hello\") # Output: 5\n",
    "data_type = type(42) # Output: <class ’int’>\n",
    "total = sum([1, 2, 3]) # Output: 6\n",
    "##builtin methods\n",
    "# str.upper(): Converts all characters in a string to uppercase.\n",
    "message = \"hello\".upper() # Output: \"HELLO\"\n",
    "# list.append(): Adds an element to the end of a list.\n",
    "fruits = [\"apple\", \"banana\"]\n",
    "fruits.append(\"cherry\") # Output: [\"apple\", \"banana\", \"cherry\"]\n",
    "# dict.get(): Returns the value associated with a key in a dictionary.\n",
    "info = {\"name\": \"Alice\", \"age\": 25}\n",
    "age = info.get(\"age\") # Output: 25\n",
    "##usedefined function\n",
    "def greet(name):\n",
    "    print(\"Hello, \" + name + \"!\")\n",
    "greet(\"Alice\")\n",
    "##global var\n",
    "x = 10 # Global Variable.\n",
    "def print_global():\n",
    "   print(x) # Accessing global variable\n",
    "print_global() # Output: 10\n",
    "##local var\n",
    "def print_local():\n",
    "   y = 5 # Local variable\n",
    "print(y)\n",
    "print_local() # Output: 5\n",
    "print(y) # This would cause an error because y is not accessible outside the function\n",
    "##try except finally and raise\n",
    "def factorial(n):\n",
    "    \"\"\"\n",
    "    Calculate the factorial of a non-negative integer n.\n",
    "\n",
    "    The factorial of a number n (denoted n!) is the product of all positive integers less\n",
    "    than or equal to n.\n",
    "\n",
    "    Specifically:\n",
    "    - If n is 0, the factorial is defined as 1 (base case).\n",
    "    - For any positive integer n, the factorial is calculated recursively as n * (n-1)\n",
    "      * (n-2) * ... * 1.\n",
    "\n",
    "    Args:\n",
    "        n (int): A non-negative integer for which to calculate the factorial.\n",
    "\n",
    "    Returns:\n",
    "        int: The factorial of the input number n.\n",
    "\n",
    "    Raises:\n",
    "        ValueError: If the input n is a negative integer, as factorial is only defined\n",
    "        for non-negative integers.\n",
    "    \"\"\"\n",
    "    if n < 0:\n",
    "        raise ValueError(\"Factorial is only defined for non-negative integers.\")\n",
    "    if n == 0:  # Base case\n",
    "        return 1\n",
    "    else:  # Recursive case\n",
    "        return n * factorial(n - 1)\n",
    "\n",
    "# Example usage\n",
    "try:\n",
    "    print(factorial(5))  # Output: 120\n",
    "    print(factorial(0))  # Output: 1\n",
    "    print(factorial(-1)) # Raises ValueError\n",
    "except ValueError as e:\n",
    "    print(e)\n",
    "##dp using memoization\n",
    "def fibonacci(n, memo={}):\n",
    "    \"\"\"\n",
    "    Computes the nth Fibonacci number using memoization to optimize the recursive solution.\n",
    "\n",
    "    This function uses memoization to store previously computed Fibonacci numbers,\n",
    "    reducing redundant calculations and improving performance.\n",
    "\n",
    "    Parameters:\n",
    "        n (int): The index in the Fibonacci sequence for which the value is to be computed.\n",
    "                 Must be a non-negative integer.\n",
    "        memo (dict, optional): A dictionary used to store previously computed Fibonacci values.\n",
    "                               It is initialized as an empty dictionary by default and is used\n",
    "                               during the recursive calls to avoid recalculating results.\n",
    "\n",
    "    Returns:\n",
    "        int: The nth Fibonacci number.\n",
    "\n",
    "    Example:\n",
    "        >>> fibonacci(5)\n",
    "        5\n",
    "        >>> fibonacci(10)\n",
    "        55\n",
    "\n",
    "    Time Complexity:\n",
    "        - The time complexity is O(n) because each Fibonacci number is computed only once.\n",
    "    Space Complexity:\n",
    "        - The space complexity is O(n) due to the memoization dictionary storing the results.\n",
    "    \"\"\"\n",
    "    if n in memo:\n",
    "        return memo[n]  # Return already computed Fibonacci number\n",
    "\n",
    "    if n <= 1:\n",
    "        return n  # Base cases: Fibonacci(0) = 0, Fibonacci(1) = 1\n",
    "\n",
    "    # Recursive calculation with memoization\n",
    "    memo[n] = fibonacci(n - 1, memo) + fibonacci(n - 2, memo)\n",
    "    return memo[n]\n",
    "\n",
    "# Example usage\n",
    "print(fibonacci(5))   # Output: 5\n",
    "print(fibonacci(10))  # Output: 55\n",
    "print(fibonacci(50))  # Output: 12586269025\n",
    "\n",
    "##dp using tabulation\n",
    "def fibonacci(n):\n",
    "    \"\"\"\n",
    "    Computes the nth Fibonacci number using dynamic programming to optimize the solution.\n",
    "\n",
    "    This function uses a bottom-up dynamic programming approach to calculate the nth\n",
    "    Fibonacci number by iteratively building up an array of Fibonacci numbers up to n,\n",
    "    thus eliminating redundant calculations and optimizing performance.\n",
    "\n",
    "    Parameters:\n",
    "        n (int): The index in the Fibonacci sequence for which the value is to be computed.\n",
    "                 Must be a non-negative integer.\n",
    "\n",
    "    Returns:\n",
    "        int: The nth Fibonacci number.\n",
    "\n",
    "    Example:\n",
    "        >>> fibonacci(5)\n",
    "        5\n",
    "        >>> fibonacci(10)\n",
    "        55\n",
    "\n",
    "    Time Complexity:\n",
    "        - The time complexity is O(n), as the function iterates through the range 2 to n,\n",
    "          calculating each Fibonacci number once.\n",
    "    Space Complexity:\n",
    "        - The space complexity is O(n), due to the array used to store the Fibonacci numbers\n",
    "          up to n.\n",
    "    \"\"\"\n",
    "    if n <= 1:\n",
    "        return n  # Base cases: Fibonacci(0) = 0, Fibonacci(1) = 1\n",
    "\n",
    "    # Initialize the DP array\n",
    "    dp = [0] * (n + 1)\n",
    "    dp[1] = 1\n",
    "\n",
    "    # Fill the DP array\n",
    "    for i in range(2, n + 1):\n",
    "        dp[i] = dp[i - 1] + dp[i - 2]\n",
    "\n",
    "    return dp[n]\n",
    "\n",
    "# Example usage\n",
    "print(fibonacci(5))   # Output: 5\n",
    "print(fibonacci(10))  # Output: 55\n",
    "print(fibonacci(20))  # Output: 6765\n",
    "\n",
    "\n"
   ]
  },
  {
   "cell_type": "markdown",
   "metadata": {
    "id": "W5JfYfdBMbZu"
   },
   "source": [
    "Task 1. Classify Temperatures:\n",
    "1. Create empty lists for temperature classifications:\n",
    "(a) Cold: temperatures below 10°C.\n",
    "(b) Mild: temperatures between 10°C and 15°C.\n",
    "(c) Comfortable: temperatures between 15°C and 20°C.\n",
    "\n",
    "2. Iterate over the temperatures list and add each temperature to the appropriate cate-\n",
    "gory.\n",
    "\n",
    "3. Print the lists to verify the classifications."
   ]
  },
  {
   "cell_type": "code",
   "execution_count": null,
   "metadata": {
    "colab": {
     "base_uri": "https://localhost:8080/"
    },
    "id": "xXPpuRY1MNnM",
    "outputId": "85a1f091-9370-4113-fe51-3ac47f88c9ea"
   },
   "outputs": [
    {
     "name": "stdout",
     "output_type": "stream",
     "text": [
      "all temperatures= [8.2, 17.4, 14.1, 7.9, 18.0, 13.5, 9.0, 17.8, 13.0, 8.5, 16.5, 12.9, 7.7, 17.2, 13.3, 8.4, 16.7, 14.0, 9.5, 18.3, 13.4, 8.1, 17.9, 14.2, 7.6, 17.0, 12.8, 8.0, 16.8, 13.7, 7.8, 17.5, 13.6, 8.7, 17.1, 13.8, 9.2, 18.1, 13.9, 8.3, 16.4, 12.7, 8.9, 18.2, 13.1, 7.8, 16.6, 12.5]\n",
      "cold= [8.2, 7.9, 9.0, 8.5, 7.7, 8.4, 9.5, 8.1, 7.6, 8.0, 7.8, 8.7, 9.2, 8.3, 8.9, 7.8]\n",
      "mild= [14.1, 13.5, 13.0, 12.9, 13.3, 14.0, 13.4, 14.2, 12.8, 13.7, 13.6, 13.8, 13.9, 12.7, 13.1, 12.5]\n",
      "comfortable= [17.4, 18.0, 17.8, 16.5, 17.2, 16.7, 18.3, 17.9, 17.0, 16.8, 17.5, 17.1, 18.1, 16.4, 18.2, 16.6]\n"
     ]
    }
   ],
   "source": [
    "temperature_list=[8.2, 17.4, 14.1, 7.9, 18.0, 13.5, 9.0, 17.8, 13.0, 8.5, 16.5, 12.9, 7.7, 17.2, 13.3, 8.4, 16.7, 14.0, 9.5, 18.3, 13.4, 8.1, 17.9, 14.2, 7.6, 17.0, 12.8, 8.0, 16.8, 13.7, 7.8, 17.5, 13.6, 8.7,\n",
    "17.1, 13.8, 9.2, 18.1, 13.9, 8.3, 16.4, 12.7, 8.9, 18.2, 13.1, 7.8, 16.6, 12.5]\n",
    "cold=[]\n",
    "mild=[]\n",
    "comfortable=[]\n",
    "for i in temperature_list:\n",
    "    if i<10:\n",
    "        cold.append(i)\n",
    "    elif i>=10 and i<15:\n",
    "        mild.append(i)\n",
    "    elif i>=15 and i<20:\n",
    "        comfortable.append(i)\n",
    "print(\"all temperatures=\",temperature_list)\n",
    "print(\"cold=\",cold)\n",
    "print(\"mild=\",mild)\n",
    "print(\"comfortable=\",comfortable)\n",
    "\n"
   ]
  },
  {
   "cell_type": "markdown",
   "metadata": {
    "id": "K3e96i6ZN2D6"
   },
   "source": [
    "Task 2. Based on Data - Answer all the Questions:\n",
    "1. How many times was it mild?\n",
    "(a) Hint: Count the number of items in the mild list and print the result.\n",
    "2. How many times was it comfortable?\n",
    "3. How many times was it cold?"
   ]
  },
  {
   "cell_type": "code",
   "execution_count": null,
   "metadata": {
    "colab": {
     "base_uri": "https://localhost:8080/"
    },
    "id": "KxnSKqDYN8Ao",
    "outputId": "5cae0d5b-d5fb-4ce3-dc14-a8b0f5e21592"
   },
   "outputs": [
    {
     "name": "stdout",
     "output_type": "stream",
     "text": [
      "16\n",
      "16\n",
      "16\n"
     ]
    }
   ],
   "source": [
    "print(len(mild))\n",
    "print(len(comfortable))\n",
    "print(len(cold))\n"
   ]
  },
  {
   "cell_type": "markdown",
   "metadata": {
    "id": "UgecFb4OPjMj"
   },
   "source": [
    "Task 3. Convert Temperatures from Celsius to Fahrenheit\n",
    "\n",
    "Using the formula for temperature conversion, convert each reading from Celsius to Fahren-\n",
    "heit and store it in a new list called temperatures_fahrenheit.\n",
    "\n",
    "Formula: Fahrenheit = (Celsius ×\n",
    "9/5) + 32\n",
    "\n",
    "1. Iterate over the temperatures list and apply the formula to convert each temperature.\n",
    "2. Store the results in the new list.\n",
    "3. Print the converted Fahrenheit values."
   ]
  },
  {
   "cell_type": "code",
   "execution_count": null,
   "metadata": {
    "colab": {
     "base_uri": "https://localhost:8080/"
    },
    "id": "ZP4R1K2TP2tZ",
    "outputId": "85c7332b-8d57-42df-d8b3-a3d01a736479"
   },
   "outputs": [
    {
     "name": "stdout",
     "output_type": "stream",
     "text": [
      "[46.76, 63.32, 57.38, 46.22, 64.4, 56.3, 48.2, 64.04, 55.4, 47.3, 61.7, 55.22, 45.86, 62.96, 55.94, 47.12, 62.06, 57.2, 49.1, 64.94, 56.12, 46.58, 64.22, 57.56, 45.68, 62.6, 55.04, 46.4, 62.24, 56.66, 46.04, 63.5, 56.48, 47.66, 62.78, 56.84, 48.56, 64.58, 57.02, 46.94, 61.52, 54.86, 48.02, 64.76, 55.58, 46.04, 61.88, 54.5]\n"
     ]
    }
   ],
   "source": [
    "temperature_fahrenheit_list=[]\n",
    "for i in temperature_list:\n",
    "    fahrenheit_tempr=(i*9/5)+32\n",
    "    round(fahrenheit_tempr,2)\n",
    "    temperature_fahrenheit_list.append(round(fahrenheit_tempr,2))\n",
    "\n",
    "print(temperature_fahrenheit_list)"
   ]
  },
  {
   "cell_type": "markdown",
   "metadata": {
    "id": "z7gemL9kib78"
   },
   "source": [
    "Task 4. Analyze Temperature Patterns by Time of Day:\n",
    "Scenario: Each day’s readings are grouped as:\n",
    "• Night (00-08),\n",
    "• Evening (08-16),\n",
    "• Day (16-24).\n",
    "1. Create empty lists for night, day, and evening temperatures.\n",
    "2. Iterate over the temperatures list, assigning values to each time-of-day list based on\n",
    "their position.\n",
    "3. Calculate and print the average day-time temperature.\n",
    "4. (Optional) Plot ”day vs. temperature” using matplotlib."
   ]
  },
  {
   "cell_type": "code",
   "execution_count": null,
   "metadata": {
    "colab": {
     "base_uri": "https://localhost:8080/",
     "height": 538
    },
    "id": "kQKjZ2NJi1Y8",
    "outputId": "4137c88a-d625-4504-d84e-dc7ff618287f"
   },
   "outputs": [
    {
     "name": "stdout",
     "output_type": "stream",
     "text": [
      "night= [7.9, 7.7, 7.6, 8.0, 7.8, 7.8]\n",
      "day= [8.2, 14.1, 13.5, 9.0, 13.0, 8.5, 12.9, 13.3, 8.4, 14.0, 9.5, 13.4, 8.1, 14.2, 12.8, 13.7, 13.6, 8.7, 13.8, 9.2, 13.9, 8.3, 12.7, 8.9, 13.1, 12.5]\n",
      "evening= [17.4, 18.0, 17.8, 16.5, 17.2, 16.7, 18.3, 17.9, 17.0, 16.8, 17.5, 17.1, 18.1, 16.4, 18.2, 16.6]\n",
      "average_temperature= 11.588461538461539\n"
     ]
    },
    {
     "data": {
      "image/png": "[encoded data removed]",
      "text/plain": [
       "<Figure size 640x480 with 1 Axes>"
      ]
     },
     "metadata": {},
     "output_type": "display_data"
    }
   ],
   "source": [
    "night=[]\n",
    "day=[]\n",
    "evening=[]\n",
    "for i in temperature_list:\n",
    "  if i<=8:\n",
    "    night.append(i)\n",
    "  elif i<=16:\n",
    "    day.append(i)\n",
    "  elif i<=24:\n",
    "    evening.append(i)\n",
    "print(\"night=\",night)\n",
    "print(\"day=\",day)\n",
    "print(\"evening=\",evening)\n",
    "average_temperature=sum(day)/len(day)\n",
    "print(\"average_temperature=\",average_temperature)\n",
    "#use matplotlib\n",
    "import matplotlib.pyplot as plt\n",
    "plt.xlabel(\"day\")\n",
    "plt.ylabel(\"temperature\")\n",
    "plt.plot(temperature_list)\n",
    "plt.show()"
   ]
  },
  {
   "cell_type": "markdown",
   "metadata": {
    "id": "M0foEC1Ilz20"
   },
   "source": [
    "8.1.1 Exercise - Recursion:\n",
    "Task 1 - Sum of Nested Lists:\n",
    "Scenario: You have a list that contains numbers and other lists of numbers (nested lists).\n",
    "You want to find the total sum of all the numbers in this structure.\n",
    "Task:\n",
    "• Write a recursive function sum_nested_list(nested_list) that:\n",
    "1. Takes a nested list (a list that can contain numbers or other lists of numbers) as\n",
    "input.\n",
    "2. Sums all numbers at every depth level of the list, regardless of how deeply nested\n",
    "the numbers are.\n",
    "• Test the function with a sample nested list, such as\n",
    "nested_list = [1, [2, [3, 4], 5], 6, [7, 8]].\n",
    "The result should be the total sum of all the numbers."
   ]
  },
  {
   "cell_type": "code",
   "execution_count": null,
   "metadata": {
    "colab": {
     "base_uri": "https://localhost:8080/"
    },
    "id": "fgfj2N2_Pn1A",
    "outputId": "16d77216-aa63-4b36-d548-19adc056a247"
   },
   "outputs": [
    {
     "name": "stdout",
     "output_type": "stream",
     "text": [
      "36\n"
     ]
    }
   ],
   "source": [
    "def sum_nested_list(nested_list):\n",
    "  '''\n",
    "  takes list or nested list of numbers, suming up all the numbers possibly nested\n",
    "  parameter:nested_list\n",
    "  return:total_sum\n",
    "  argument:nested_list=[1, [2, [3, 4], 5], 6, [7, 8]]\n",
    "  '''\n",
    "  total_sum=0\n",
    "  for i in nested_list:\n",
    "    if isinstance(i,list): #check if the input is a  list or not\n",
    "      total_sum+=sum_nested_list(i)   #recusively sum all elements in the nested list\n",
    "    else:\n",
    "      total_sum+=i   #add the number to total\n",
    "  return total_sum\n",
    "\n",
    "nested_list = [1, [2, [3, 4], 5], 6, [7, 8]]\n",
    "print(sum_nested_list(nested_list))\n"
   ]
  },
  {
   "cell_type": "markdown",
   "metadata": {
    "id": "9z42i4yrRwS3"
   },
   "source": [
    "Task 2 - Generate All Permutations of a String:\n",
    "Scenario: Given a string, generate all possible permutations of its characters. This is useful\n",
    "for understanding backtracking and recursive depth-first search.\n",
    "Task:\n",
    "• Write a recursive function generate_permutations(s) that:\n",
    "– Takes a string s as input and returns a list of all unique permutations.\n",
    "• Test with strings like ”abc” and ”aab”.\n",
    "\n",
    "print(generate_permutations(\"abc\"))\n",
    "# Should return [’abc’, ’acb’, ’bac’, ’bca’, ’cab’, ’cba’]"
   ]
  },
  {
   "cell_type": "code",
   "execution_count": null,
   "metadata": {
    "colab": {
     "base_uri": "https://localhost:8080/"
    },
    "id": "aoL5Ex3ORzV3",
    "outputId": "a7777d3a-3e31-43a2-f73a-aea48094e724"
   },
   "outputs": [
    {
     "name": "stdout",
     "output_type": "stream",
     "text": [
      "['abc', 'acb', 'cba', 'cab', 'bac', 'bca']\n"
     ]
    }
   ],
   "source": [
    "def generate_permutation(s):\n",
    "  '''\n",
    "  function takes string s as input and returns a list of all unique permutations\n",
    "  parameter:s\n",
    "  return:list of permutations\n",
    "  argument:s=\"abc\"\n",
    "  '''\n",
    "  if len(s)==1:\n",
    "    return [s]\n",
    "  permutations=[]\n",
    "  for i in range(len(s)):\n",
    "    char=s[i]\n",
    "    remaining_chars=s[:i]+s[i+1:]\n",
    "    permutations+=[char+p for p in generate_permutation(remaining_chars)]\n",
    "  return list(set(permutations))\n",
    "s=\"abc\"\n",
    "print(generate_permutation(s))\n"
   ]
  },
  {
   "cell_type": "markdown",
   "metadata": {
    "id": "GFOdiWuRTMuS"
   },
   "source": [
    "Task 3 - Directory Size Calculation:\n",
    "Directory Size Calculation Scenario: Imagine a file system where directories can contain files\n",
    "(with sizes in KB) and other directories. You want to calculate the total size of a directory,\n",
    "including all nested files and subdirectories.\n",
    "Task:\n",
    "1. Write a recursive function calculate_directory_size(directory) where:\n",
    "• directory is a dictionary where keys represent file names (with values as sizes in\n",
    "\n",
    "KB) or directory names (with values as another dictionary representing a subdi-\n",
    "rectory).\n",
    "\n",
    "• The function should return the total size of the directory, including all nested\n",
    "subdirectories.\n",
    "2. Test the function with a sample directory structure.\n"
   ]
  },
  {
   "cell_type": "code",
   "execution_count": null,
   "metadata": {
    "colab": {
     "base_uri": "https://localhost:8080/"
    },
    "id": "Nbwtp4baTVWB",
    "outputId": "78e2e4cd-bc5e-4394-ff10-071c31067122"
   },
   "outputs": [
    {
     "name": "stdout",
     "output_type": "stream",
     "text": [
      "1400\n"
     ]
    }
   ],
   "source": [
    "def calculate_directory_size(directory):\n",
    "  '''\n",
    "  directory is a dictionary where keys represent file name with values as memory size in KB\n",
    "  parameter:directory\n",
    "  return:total_size\n",
    "  argument:directory_structure\n",
    "  '''\n",
    "  total_size=0\n",
    "  for value in directory.values():\n",
    "    if isinstance(value,dict):\n",
    "      total_size+=calculate_directory_size(value)\n",
    "    else:\n",
    "      total_size+=value\n",
    "  return total_size\n",
    "\n",
    "# Sample directory structure\n",
    "directory_structure = {\n",
    "\"file1.txt\": 200,\n",
    "\"file2.txt\": 300,\n",
    "\"subdir1\": {\n",
    "\"file3.txt\": 400,\n",
    "\"file4.txt\": 100\n",
    "},\n",
    "\"subdir2\": {\n",
    "\"subsubdir1\": {\n",
    "\"file5.txt\": 250\n",
    "},\n",
    "\"file6.txt\": 150\n",
    "}\n",
    "}\n",
    "print(calculate_directory_size(directory_structure))\n"
   ]
  },
  {
   "cell_type": "markdown",
   "metadata": {
    "id": "r4iJanjbv0KD"
   },
   "source": [
    "Task 1 - Coin Change Problem:\n",
    "Scenario: Given a set of coin denominations and a target amount, find the minimum number\n",
    "of coins needed to make the amount. If it’s not possible, return - 1.\n",
    "Task:\n",
    "1. Write a function min_coins(coins, amount) that:\n",
    "• Uses DP to calculate the minimum number of coins needed to make up the\n",
    "amount.\n",
    "2. Test with coins = [1, 2, 5] and amount = 11. The result should be 3 (using coins\n",
    "[5, 5, 1])."
   ]
  },
  {
   "cell_type": "code",
   "execution_count": null,
   "metadata": {
    "colab": {
     "base_uri": "https://localhost:8080/"
    },
    "id": "a_UTNQ6ewt64",
    "outputId": "e6791cee-7a62-45b6-99a6-c1b13689084f"
   },
   "outputs": [
    {
     "name": "stdout",
     "output_type": "stream",
     "text": [
      "3\n"
     ]
    }
   ],
   "source": [
    "def min_coins(coins, amount):\n",
    "  '''calculate minimum num of coins needed to make up the amount given,\n",
    "  function solves coin change problem by determining the fewewst num of coins from a given set of coin denominations that sum up to a target amt.solution here uses dp (tabulation) to iteratively build up the minimum num of coins required for each amount.\n",
    "  parameter:coins,amount\n",
    "  return:min_coins\n",
    "  argument:coins=[1,2,5],amount=11\n",
    "  '''\n",
    "  dp=[float('inf')]*(amount+1)\n",
    "  dp[0]=0\n",
    "  for coin in coins:\n",
    "    for i in range(coin,amount+1):\n",
    "      dp[i]=min(dp[i],dp[i-coin]+1)\n",
    "  return dp[amount] if dp[amount]!=float('inf') else -1\n",
    "coins=[1,2,5]\n",
    "amount=11\n",
    "print(min_coins(coins,amount))"
   ]
  },
  {
   "cell_type": "markdown",
   "metadata": {
    "id": "fo795Ncqxxc7"
   },
   "source": [
    "Task 2 - Longest Common Subsequence (LCS):\n",
    "Scenario: Given two strings, find the length of their longest common subsequence (LCS).\n",
    "This is useful in text comparison.\n",
    "Task:\n",
    "1. Write a function longest_common_subsequence(s1, s2) that:\n",
    "• Uses DP to find the length of the LCS of two strings s1 and s2.\n",
    "2. Test with strings like \"abcde\" and \"ace\"; the LCS length should be 3 (\"ace\")."
   ]
  },
  {
   "cell_type": "code",
   "execution_count": null,
   "metadata": {
    "colab": {
     "base_uri": "https://localhost:8080/"
    },
    "id": "XxeYyv5Hxz_u",
    "outputId": "3791ee8b-0f86-47e4-f00a-25e23394d51d"
   },
   "outputs": [
    {
     "name": "stdout",
     "output_type": "stream",
     "text": [
      "3\n"
     ]
    }
   ],
   "source": [
    "def longest_common_subsequence(s1,s2):\n",
    "  '''\n",
    "  function uses dynamic programming to fin length of the LCS of 2 strings s1 and s2.\n",
    "  parameters:s1, s2\n",
    "  return:length of the LCS\n",
    "  argument:s1=\"abcde\",s2=\"ace\"\n",
    "  '''\n",
    "  word1=len(s1)\n",
    "  word2=len(s2)\n",
    "  dp=[[0]*(word2+1) for _ in range(word1+1)] #initialize a 2d dp array with zeros\n",
    "  for i in range(1, word1+1):#fill up the dp array\n",
    "    for j in range(1, word2+1):\n",
    "      if s1[i-1]==s2[j-1]: #condition for char match\n",
    "        dp[i][j]=dp[i-1][j-1]+1\n",
    "      else:\n",
    "        dp[i][j]=max(dp[i-1][j],dp[i][j-1])#don't match\n",
    "  return dp[word1][word2]#value at dp[word1][word2] is the length of lcs\n",
    "s1=\"abcde\"\n",
    "s2=\"ace\"\n",
    "print(longest_common_subsequence(s1,s2))"
   ]
  },
  {
   "cell_type": "markdown",
   "metadata": {
    "id": "LrIaMOts0AQi"
   },
   "source": [
    "Task 3 - 0/1 Knapsack Problem:\n",
    "Scenario: You have a list of items, each with a weight and a value. Given a weight capacity,\n",
    "maximize the total value of items you can carry without exceeding the weight capacity.\n",
    "Task:\n",
    "1. Write a function knapsack(weights, values, capacity) that:\n",
    "• Uses DP to determine the maximum value that can be achieved within the given\n",
    "weight capacity.\n",
    "\n",
    "2. Test with weights [1, 3, 4, 5], values [1, 4, 5, 7], and capacity 7. The re-\n",
    "sult should be 9."
   ]
  },
  {
   "cell_type": "code",
   "execution_count": null,
   "metadata": {
    "colab": {
     "base_uri": "https://localhost:8080/"
    },
    "id": "Hn0yHfMd0E0B",
    "outputId": "c70e00f8-df85-4f99-e0f6-862fef44b8ec"
   },
   "outputs": [
    {
     "name": "stdout",
     "output_type": "stream",
     "text": [
      "9\n"
     ]
    }
   ],
   "source": [
    "def knapsack(weights,values,capacity):\n",
    "  '''\n",
    "  function uses dp to determine the minimum value that can be achieved within the given weight capacity\n",
    "  parameter:weights,values,capacity\n",
    "  return:max_value\n",
    "  argument:weights=[1,3,4,5],values=[1,4,5,7],capacity=7\n",
    "  '''\n",
    "  n=len(weights)\n",
    "  dp=[[0]*(capacity+1) for _ in range(n+1)] #create dp table where dp[i][j] represent the max value achievable with first i items and capacity j\n",
    "  for i in range(1,n+1): #fill the dp tables\n",
    "    for j in range(1,capacity+1):\n",
    "      if weights[i-1]<=j: #if items fit in knapsack\n",
    "        dp[i][j]=max(dp[i-1][j],values[i-1]+dp[i-1][j-weights[i-1]])\n",
    "      else: #if items don't fit in the knapsack\n",
    "        dp[i][j]=dp[i-1][j]\n",
    "  return dp[n][capacity] #max value is found at dp[n][capacity]\n",
    "\n",
    "weights=[1,3,4,5]\n",
    "values=[1,4,5,7]\n",
    "capacity=7\n",
    "print(knapsack(weights,values,capacity))"
   ]
  }
 ],
 "metadata": {
  "colab": {
   "provenance": []
  },
  "kernelspec": {
   "display_name": "Python 3",
   "name": "python3"
  },
  "language_info": {
   "name": "python"
  }
 },
 "nbformat": 4,
 "nbformat_minor": 0
}
